{
 "cells": [
  {
   "cell_type": "markdown",
   "id": "636a011a-33f9-49e4-bde9-15f97901e63e",
   "metadata": {},
   "source": [
    "<center> <h1>\n",
    "Phased Array Audio Compression\n",
    "</h1> </center>\n",
    "\n",
    "<center><h3>\n",
    "Dan Jacobellis\n",
    "</h3></center>"
   ]
  },
  {
   "cell_type": "markdown",
   "id": "75327cb6-763d-4666-8b93-e029578ad3ed",
   "metadata": {},
   "source": [
    "# Acoustic phased arrays\n",
    "\n",
    "* Marine Sonar\n",
    "  * Large arrays (sometimes kilometers long)\n",
    "  * Can measure infrasound (<20 Hz) signals\n",
    "  * 10s or 100s of elements\n",
    "* Medical imaging\n",
    "  * Small, handheld arrays\n",
    "  * Can measure ultrasound (>20 kHz) signals\n",
    "  * 100s or 1000s of elements\n",
    "* Industrial/commercial noise imaging\n",
    "  * Moderate size\n",
    "  * Measure audio (20 Hz - 20kHz) signals\n",
    "  * 10s or 100s of elements"
   ]
  },
  {
   "cell_type": "markdown",
   "id": "125f4953-ac47-4be3-8d8c-67ca65f39aed",
   "metadata": {},
   "source": [
    "# Digital data storage\n",
    "\n",
    "* Magnetic tape: \\$5/TB\n",
    "* Hard disk drive: \\$15/TB\n",
    "* Solid state: \\$70/TB"
   ]
  },
  {
   "cell_type": "markdown",
   "id": "d181f274-acea-43fe-966d-fddb16f53dcf",
   "metadata": {},
   "source": [
    "# Statistics of digital audio\n",
    "\n",
    "* Sampling and quantization\n",
    "* Adaptive gain control\n",
    "* Companding"
   ]
  },
  {
   "cell_type": "markdown",
   "id": "4dee21c0-c686-4916-9c53-e3368d03dff7",
   "metadata": {},
   "source": [
    "# Basic entropy coding\n",
    "\n",
    "* Assume that samples are i.i.d. random variables\n",
    "* Assume Geometric/Poisson distribution $\\to$ Golomb code\n",
    "* Not very good by itself\n",
    "* Combine with other entropy reducing operations"
   ]
  },
  {
   "cell_type": "markdown",
   "id": "a6846c4c-fb95-4aa3-b55d-e8bc4dca28a0",
   "metadata": {},
   "source": [
    "# Spectral density estimation\n",
    "\n",
    "* Maximum entropy estimate\n",
    "* Linear predictive coding"
   ]
  },
  {
   "cell_type": "markdown",
   "id": "6006ef93-4908-44cf-932b-1dfe3ccb73e5",
   "metadata": {},
   "source": [
    "# Interchannel decorrelation\n",
    "\n"
   ]
  },
  {
   "cell_type": "markdown",
   "id": "a003a119-4bf6-4c30-b04c-68d680812914",
   "metadata": {},
   "source": [
    "# Linear predictive coding"
   ]
  },
  {
   "cell_type": "markdown",
   "id": "6491876a-902d-4304-af17-f9847b0df6d1",
   "metadata": {},
   "source": [
    "# Vector LPC"
   ]
  },
  {
   "cell_type": "markdown",
   "id": "1679f82d-cd93-45c7-9022-1d506aae6f4a",
   "metadata": {},
   "source": [
    "# Lossy Compression"
   ]
  },
  {
   "cell_type": "markdown",
   "id": "da0207d1-c11e-4d7f-877c-52c3dc65ec1a",
   "metadata": {},
   "source": [
    "# Vector quantization"
   ]
  },
  {
   "cell_type": "markdown",
   "id": "5a8a0302-0a4b-43a3-b5ed-cf604237b309",
   "metadata": {},
   "source": [
    "# Perceptual coding\n",
    "\n",
    "* Discards phase!\n",
    "* Phase is incredibly important for array processing"
   ]
  }
 ],
 "metadata": {
  "kernelspec": {
   "display_name": "Julia 1.7.0",
   "language": "julia",
   "name": "julia-1.7"
  },
  "language_info": {
   "file_extension": ".jl",
   "mimetype": "application/julia",
   "name": "julia",
   "version": "1.7.0"
  }
 },
 "nbformat": 4,
 "nbformat_minor": 5
}
